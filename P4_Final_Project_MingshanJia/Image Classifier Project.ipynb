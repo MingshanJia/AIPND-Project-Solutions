{
 "cells": [
  {
   "cell_type": "markdown",
   "metadata": {},
   "source": [
    "# Developing an AI application\n",
    "\n",
    "Going forward, AI algorithms will be incorporated into more and more everyday applications. For example, you might want to include an image classifier in a smart phone app. To do this, you'd use a deep learning model trained on hundreds of thousands of images as part of the overall application architecture. A large part of software development in the future will be using these types of models as common parts of applications. \n",
    "\n",
    "In this project, you'll train an image classifier to recognize different species of flowers. You can imagine using something like this in a phone app that tells you the name of the flower your camera is looking at. In practice you'd train this classifier, then export it for use in your application. We'll be using [this dataset](http://www.robots.ox.ac.uk/~vgg/data/flowers/102/index.html) of 102 flower categories, you can see a few examples below. \n",
    "\n",
    "<img src='assets/Flowers.png' width=500px>\n",
    "\n",
    "The project is broken down into multiple steps:\n",
    "\n",
    "* Load and preprocess the image dataset\n",
    "* Train the image classifier on your dataset\n",
    "* Use the trained classifier to predict image content\n",
    "\n",
    "We'll lead you through each part which you'll implement in Python.\n",
    "\n",
    "When you've completed this project, you'll have an application that can be trained on any set of labeled images. Here your network will be learning about flowers and end up as a command line application. But, what you do with your new skills depends on your imagination and effort in building a dataset. For example, imagine an app where you take a picture of a car, it tells you what the make and model is, then looks up information about it. Go build your own dataset and make something new.\n",
    "\n",
    "First up is importing the packages you'll need. It's good practice to keep all the imports at the beginning of your code. As you work through this notebook and find you need to import a package, make sure to add the import up here.\n",
    "\n",
    "Please make sure if you are running this notebook in the workspace that you have chosen GPU rather than CPU mode."
   ]
  },
  {
   "cell_type": "code",
   "execution_count": 1,
   "metadata": {},
   "outputs": [],
   "source": [
    "# Imports here\n",
    "%matplotlib inline\n",
    "\n",
    "import matplotlib.pyplot as plt\n",
    "import seaborn as sb\n",
    "import torch\n",
    "from torch import nn\n",
    "from torch import optim\n",
    "import torch.nn.functional as F\n",
    "from torchvision import datasets, transforms, models\n",
    "from PIL import Image\n",
    "import numpy as np\n",
    "import json"
   ]
  },
  {
   "cell_type": "markdown",
   "metadata": {},
   "source": [
    "## Load the data\n",
    "\n",
    "Here you'll use `torchvision` to load the data ([documentation](http://pytorch.org/docs/0.3.0/torchvision/index.html)). The data should be included alongside this notebook, otherwise you can [download it here](https://s3.amazonaws.com/content.udacity-data.com/nd089/flower_data.tar.gz). The dataset is split into three parts, training, validation, and testing. For the training, you'll want to apply transformations such as random scaling, cropping, and flipping. This will help the network generalize leading to better performance. You'll also need to make sure the input data is resized to 224x224 pixels as required by the pre-trained networks.\n",
    "\n",
    "The validation and testing sets are used to measure the model's performance on data it hasn't seen yet. For this you don't want any scaling or rotation transformations, but you'll need to resize then crop the images to the appropriate size.\n",
    "\n",
    "The pre-trained networks you'll use were trained on the ImageNet dataset where each color channel was normalized separately. For all three sets you'll need to normalize the means and standard deviations of the images to what the network expects. For the means, it's `[0.485, 0.456, 0.406]` and for the standard deviations `[0.229, 0.224, 0.225]`, calculated from the ImageNet images.  These values will shift each color channel to be centered at 0 and range from -1 to 1.\n",
    " "
   ]
  },
  {
   "cell_type": "code",
   "execution_count": 2,
   "metadata": {},
   "outputs": [],
   "source": [
    "data_dir = 'flowers'\n",
    "train_dir = data_dir + '/train'\n",
    "valid_dir = data_dir + '/valid'\n",
    "test_dir = data_dir + '/test'"
   ]
  },
  {
   "cell_type": "code",
   "execution_count": 3,
   "metadata": {},
   "outputs": [
    {
     "data": {
      "text/plain": [
       "Dataset ImageFolder\n",
       "    Number of datapoints: 6552\n",
       "    Root Location: flowers/train\n",
       "    Transforms (if any): Compose(\n",
       "                             RandomRotation(degrees=(-30, 30), resample=False, expand=False)\n",
       "                             RandomResizedCrop(size=(224, 224), scale=(0.08, 1.0), ratio=(0.75, 1.3333), interpolation=PIL.Image.BILINEAR)\n",
       "                             RandomVerticalFlip(p=0.5)\n",
       "                             ToTensor()\n",
       "                             Normalize(mean=[0.485, 0.456, 0.406], std=[0.229, 0.224, 0.225])\n",
       "                         )\n",
       "    Target Transforms (if any): None"
      ]
     },
     "execution_count": 3,
     "metadata": {},
     "output_type": "execute_result"
    }
   ],
   "source": [
    "# TODO: Define your transforms for the training, validation, and testing sets\n",
    "train_transforms = transforms.Compose([transforms.RandomRotation(30),\n",
    "                                     transforms.RandomResizedCrop(224),\n",
    "                                     transforms.RandomVerticalFlip(),\n",
    "                                     transforms.ToTensor(),\n",
    "                                     transforms.Normalize([0.485, 0.456, 0.406], [0.229, 0.224, 0.225])])\n",
    "\n",
    "valid_transforms = transforms.Compose([transforms.Resize(256),\n",
    "                                    transforms.CenterCrop(224),\n",
    "                                    transforms.ToTensor(),\n",
    "                                    transforms.Normalize([0.485, 0.456, 0.406], [0.229, 0.224, 0.225])])\n",
    "\n",
    "# TODO: Load the datasets with ImageFolder\n",
    "train_datasets = datasets.ImageFolder(train_dir, transform=train_transforms)\n",
    "valid_datasets = datasets.ImageFolder(valid_dir, transform=valid_transforms)\n",
    "test_datasets = datasets.ImageFolder(test_dir, transform=valid_transforms)\n",
    "\n",
    "# TODO: Using the image datasets and the trainforms, define the dataloaders\n",
    "trainloaders = torch.utils.data.DataLoader(train_datasets, batch_size=64, shuffle=True)\n",
    "validloaders = torch.utils.data.DataLoader(valid_datasets, batch_size=32)\n",
    "testloaders = torch.utils.data.DataLoader(valid_datasets, batch_size=32)\n",
    "\n",
    "trainloaders.dataset"
   ]
  },
  {
   "cell_type": "markdown",
   "metadata": {},
   "source": [
    "### Label mapping\n",
    "\n",
    "You'll also need to load in a mapping from category label to category name. You can find this in the file `cat_to_name.json`. It's a JSON object which you can read in with the [`json` module](https://docs.python.org/2/library/json.html). This will give you a dictionary mapping the integer encoded categories to the actual names of the flowers."
   ]
  },
  {
   "cell_type": "code",
   "execution_count": 4,
   "metadata": {},
   "outputs": [],
   "source": [
    "with open('cat_to_name.json', 'r') as f:\n",
    "    cat_to_name = json.load(f)"
   ]
  },
  {
   "cell_type": "markdown",
   "metadata": {},
   "source": [
    "# Building and training the classifier\n",
    "\n",
    "Now that the data is ready, it's time to build and train the classifier. As usual, you should use one of the pretrained models from `torchvision.models` to get the image features. Build and train a new feed-forward classifier using those features.\n",
    "\n",
    "We're going to leave this part up to you. Refer to [the rubric](https://review.udacity.com/#!/rubrics/1663/view) for guidance on successfully completing this section. Things you'll need to do:\n",
    "\n",
    "* Load a [pre-trained network](http://pytorch.org/docs/master/torchvision/models.html) (If you need a starting point, the VGG networks work great and are straightforward to use)\n",
    "* Define a new, untrained feed-forward network as a classifier, using ReLU activations and dropout\n",
    "* Train the classifier layers using backpropagation using the pre-trained network to get the features\n",
    "* Track the loss and accuracy on the validation set to determine the best hyperparameters\n",
    "\n",
    "We've left a cell open for you below, but use as many as you need. Our advice is to break the problem up into smaller parts you can run separately. Check that each part is doing what you expect, then move on to the next. You'll likely find that as you work through each part, you'll need to go back and modify your previous code. This is totally normal!\n",
    "\n",
    "When training make sure you're updating only the weights of the feed-forward network. You should be able to get the validation accuracy above 70% if you build everything right. Make sure to try different hyperparameters (learning rate, units in the classifier, epochs, etc) to find the best model. Save those hyperparameters to use as default values in the next part of the project.\n",
    "\n",
    "One last important tip if you're using the workspace to run your code: To avoid having your workspace disconnect during the long-running tasks in this notebook, please read in the earlier page in this lesson called Intro to GPU Workspaces about Keeping Your Session Active. You'll want to include code from the workspace_utils.py module."
   ]
  },
  {
   "cell_type": "code",
   "execution_count": 5,
   "metadata": {},
   "outputs": [],
   "source": [
    "# TODO: Build and train your network\n",
    "model = models.vgg16(pretrained=True)"
   ]
  },
  {
   "cell_type": "code",
   "execution_count": 6,
   "metadata": {},
   "outputs": [
    {
     "data": {
      "text/plain": [
       "VGG(\n",
       "  (features): Sequential(\n",
       "    (0): Conv2d(3, 64, kernel_size=(3, 3), stride=(1, 1), padding=(1, 1))\n",
       "    (1): ReLU(inplace)\n",
       "    (2): Conv2d(64, 64, kernel_size=(3, 3), stride=(1, 1), padding=(1, 1))\n",
       "    (3): ReLU(inplace)\n",
       "    (4): MaxPool2d(kernel_size=2, stride=2, padding=0, dilation=1, ceil_mode=False)\n",
       "    (5): Conv2d(64, 128, kernel_size=(3, 3), stride=(1, 1), padding=(1, 1))\n",
       "    (6): ReLU(inplace)\n",
       "    (7): Conv2d(128, 128, kernel_size=(3, 3), stride=(1, 1), padding=(1, 1))\n",
       "    (8): ReLU(inplace)\n",
       "    (9): MaxPool2d(kernel_size=2, stride=2, padding=0, dilation=1, ceil_mode=False)\n",
       "    (10): Conv2d(128, 256, kernel_size=(3, 3), stride=(1, 1), padding=(1, 1))\n",
       "    (11): ReLU(inplace)\n",
       "    (12): Conv2d(256, 256, kernel_size=(3, 3), stride=(1, 1), padding=(1, 1))\n",
       "    (13): ReLU(inplace)\n",
       "    (14): Conv2d(256, 256, kernel_size=(3, 3), stride=(1, 1), padding=(1, 1))\n",
       "    (15): ReLU(inplace)\n",
       "    (16): MaxPool2d(kernel_size=2, stride=2, padding=0, dilation=1, ceil_mode=False)\n",
       "    (17): Conv2d(256, 512, kernel_size=(3, 3), stride=(1, 1), padding=(1, 1))\n",
       "    (18): ReLU(inplace)\n",
       "    (19): Conv2d(512, 512, kernel_size=(3, 3), stride=(1, 1), padding=(1, 1))\n",
       "    (20): ReLU(inplace)\n",
       "    (21): Conv2d(512, 512, kernel_size=(3, 3), stride=(1, 1), padding=(1, 1))\n",
       "    (22): ReLU(inplace)\n",
       "    (23): MaxPool2d(kernel_size=2, stride=2, padding=0, dilation=1, ceil_mode=False)\n",
       "    (24): Conv2d(512, 512, kernel_size=(3, 3), stride=(1, 1), padding=(1, 1))\n",
       "    (25): ReLU(inplace)\n",
       "    (26): Conv2d(512, 512, kernel_size=(3, 3), stride=(1, 1), padding=(1, 1))\n",
       "    (27): ReLU(inplace)\n",
       "    (28): Conv2d(512, 512, kernel_size=(3, 3), stride=(1, 1), padding=(1, 1))\n",
       "    (29): ReLU(inplace)\n",
       "    (30): MaxPool2d(kernel_size=2, stride=2, padding=0, dilation=1, ceil_mode=False)\n",
       "  )\n",
       "  (classifier): Sequential(\n",
       "    (0): Linear(in_features=25088, out_features=4096, bias=True)\n",
       "    (1): ReLU(inplace)\n",
       "    (2): Dropout(p=0.5)\n",
       "    (3): Linear(in_features=4096, out_features=4096, bias=True)\n",
       "    (4): ReLU(inplace)\n",
       "    (5): Dropout(p=0.5)\n",
       "    (6): Linear(in_features=4096, out_features=1000, bias=True)\n",
       "  )\n",
       ")"
      ]
     },
     "execution_count": 6,
     "metadata": {},
     "output_type": "execute_result"
    }
   ],
   "source": [
    "model"
   ]
  },
  {
   "cell_type": "code",
   "execution_count": 7,
   "metadata": {},
   "outputs": [],
   "source": [
    "class MyNetwork(nn.Module):\n",
    "    def __init__(self, input_size, output_size, hidden_layers, drop_p=0.5):\n",
    "        super().__init__()      \n",
    "        self.hidden_layers=nn.ModuleList([nn.Linear(input_size, hidden_layers[0])])          \n",
    "        layer_sizes = zip(hidden_layers[:-1], hidden_layers[1:])\n",
    "        self.hidden_layers.extend([nn.Linear(h1, h2) for h1, h2 in layer_sizes])\n",
    "        self.output = nn.Linear(hidden_layers[-1], output_size)  \n",
    "        self.dropout = nn.Dropout(p=drop_p)\n",
    "      \n",
    "    def forward(self, x):\n",
    "        for linear in self.hidden_layers:\n",
    "            x = F.relu(linear(x))\n",
    "            x = self.dropout(x)\n",
    "        x = self.output(x)   \n",
    "        return F.log_softmax(x, dim=1)"
   ]
  },
  {
   "cell_type": "code",
   "execution_count": 8,
   "metadata": {},
   "outputs": [],
   "source": [
    "for param in model.parameters():\n",
    "    param.requires_grad = False\n",
    "    \n",
    "my_classifer = MyNetwork(25088, 102, [4096, 1000, 400], drop_p=0.5)\n",
    "model.classifier = my_classifer"
   ]
  },
  {
   "cell_type": "code",
   "execution_count": 9,
   "metadata": {},
   "outputs": [],
   "source": [
    "criterion = nn.NLLLoss()\n",
    "optimizer = optim.Adam(model.classifier.parameters(), lr=0.0012)"
   ]
  },
  {
   "cell_type": "code",
   "execution_count": 10,
   "metadata": {},
   "outputs": [],
   "source": [
    "def validation(model, validloaders, criterion):\n",
    "    test_loss = 0\n",
    "    accuracy = 0\n",
    "    model.to('cuda')\n",
    "    for images, labels in testloaders:\n",
    "        images, labels = images.to('cuda'), labels.to('cuda')\n",
    "        outputs = model.forward(images)\n",
    "        test_loss += criterion(outputs, labels).item()    \n",
    "        equality = (labels.data == outputs.max(dim=1)[1])\n",
    "        accuracy += equality.type(torch.FloatTensor).mean()\n",
    "    return test_loss, accuracy"
   ]
  },
  {
   "cell_type": "code",
   "execution_count": 11,
   "metadata": {},
   "outputs": [],
   "source": [
    "def train_model(model, trainloaders, epochs, print_every, criterion, optimizer, device = 'cpu'):\n",
    "    epochs = epochs\n",
    "    print_every = print_every\n",
    "    steps = 0\n",
    "\n",
    "    # change to cuda\n",
    "    model.to('cuda')\n",
    "\n",
    "    for e in range(epochs):\n",
    "        model.train()\n",
    "        running_loss = 0\n",
    "        for ii, (inputs, labels) in enumerate(trainloaders):\n",
    "            steps += 1\n",
    "            inputs, labels = inputs.to('cuda'), labels.to('cuda')\n",
    "\n",
    "            optimizer.zero_grad()\n",
    "\n",
    "            outputs = model.forward(inputs)\n",
    "            loss = criterion(outputs, labels)\n",
    "            loss.backward()\n",
    "            optimizer.step()\n",
    "            running_loss += loss.item()\n",
    "\n",
    "            if steps % print_every == 0:\n",
    "                model.eval()\n",
    "                test_loss, accuracy = validation(model, validloaders, criterion)\n",
    "                print(\"Epoch: {}/{}... \".format(e+1, epochs),\n",
    "                      \"Train Loss: {:.3f}\".format(running_loss/print_every),\n",
    "                     \"Valid Loss: {:.3f}\".format(test_loss/len(validloaders)),\n",
    "                     \"Valid Accuracy :{:.3f}%\".format(100*accuracy/len(validloaders)))\n",
    "\n",
    "                running_loss = 0\n",
    "                model.train()"
   ]
  },
  {
   "cell_type": "code",
   "execution_count": 12,
   "metadata": {},
   "outputs": [
    {
     "name": "stdout",
     "output_type": "stream",
     "text": [
      "Epoch: 1/10...  Train Loss: 4.644 Valid Loss: 4.178 Valid Accuracy :11.418%\n",
      "Epoch: 1/10...  Train Loss: 4.121 Valid Loss: 3.337 Valid Accuracy :24.399%\n",
      "Epoch: 2/10...  Train Loss: 1.490 Valid Loss: 2.755 Valid Accuracy :33.307%\n",
      "Epoch: 2/10...  Train Loss: 3.298 Valid Loss: 2.359 Valid Accuracy :37.019%\n",
      "Epoch: 2/10...  Train Loss: 3.068 Valid Loss: 2.139 Valid Accuracy :44.685%\n",
      "Epoch: 3/10...  Train Loss: 2.419 Valid Loss: 1.975 Valid Accuracy :48.277%\n",
      "Epoch: 3/10...  Train Loss: 2.709 Valid Loss: 1.776 Valid Accuracy :52.577%\n",
      "Epoch: 4/10...  Train Loss: 0.718 Valid Loss: 1.762 Valid Accuracy :52.217%\n",
      "Epoch: 4/10...  Train Loss: 2.519 Valid Loss: 1.546 Valid Accuracy :59.736%\n",
      "Epoch: 4/10...  Train Loss: 2.517 Valid Loss: 1.589 Valid Accuracy :60.737%\n",
      "Epoch: 5/10...  Train Loss: 1.677 Valid Loss: 1.422 Valid Accuracy :61.819%\n",
      "Epoch: 5/10...  Train Loss: 2.394 Valid Loss: 1.442 Valid Accuracy :61.498%\n",
      "Epoch: 6/10...  Train Loss: 0.284 Valid Loss: 1.498 Valid Accuracy :61.298%\n",
      "Epoch: 6/10...  Train Loss: 2.292 Valid Loss: 1.344 Valid Accuracy :65.638%\n",
      "Epoch: 6/10...  Train Loss: 2.332 Valid Loss: 1.355 Valid Accuracy :65.398%\n",
      "Epoch: 7/10...  Train Loss: 1.272 Valid Loss: 1.403 Valid Accuracy :63.208%\n",
      "Epoch: 7/10...  Train Loss: 2.273 Valid Loss: 1.300 Valid Accuracy :66.026%\n",
      "Epoch: 7/10...  Train Loss: 2.260 Valid Loss: 1.256 Valid Accuracy :67.014%\n",
      "Epoch: 8/10...  Train Loss: 2.174 Valid Loss: 1.282 Valid Accuracy :67.321%\n",
      "Epoch: 8/10...  Train Loss: 2.138 Valid Loss: 1.220 Valid Accuracy :69.404%\n",
      "Epoch: 9/10...  Train Loss: 0.846 Valid Loss: 1.167 Valid Accuracy :71.474%\n",
      "Epoch: 9/10...  Train Loss: 2.180 Valid Loss: 1.185 Valid Accuracy :70.353%\n",
      "Epoch: 9/10...  Train Loss: 2.160 Valid Loss: 1.151 Valid Accuracy :69.551%\n",
      "Epoch: 10/10...  Train Loss: 1.800 Valid Loss: 1.159 Valid Accuracy :70.272%\n",
      "Epoch: 10/10...  Train Loss: 2.192 Valid Loss: 1.166 Valid Accuracy :71.167%\n"
     ]
    }
   ],
   "source": [
    "train_model(model, trainloaders, 10, 40, criterion, optimizer, 'gpu')"
   ]
  },
  {
   "cell_type": "markdown",
   "metadata": {},
   "source": [
    "## Testing your network\n",
    "\n",
    "It's good practice to test your trained network on test data, images the network has never seen either in training or validation. This will give you a good estimate for the model's performance on completely new images. Run the test images through the network and measure the accuracy, the same way you did validation. You should be able to reach around 70% accuracy on the test set if the model has been trained well."
   ]
  },
  {
   "cell_type": "code",
   "execution_count": 13,
   "metadata": {},
   "outputs": [],
   "source": [
    "# TODO: Do validation on the test set\n",
    "def test_model(model, testloaders):\n",
    "    model.eval()\n",
    "    model.to('cuda')\n",
    "    accuracy = 0\n",
    "    total_acc = 0\n",
    "    with torch.no_grad():\n",
    "        for ii, (images, labels) in enumerate(testloaders):\n",
    "            images, labels = images.to('cuda'), labels.to('cuda')\n",
    "            \n",
    "            outputs = model.forward(images)\n",
    "            _, predicted = outputs.max(dim=1)\n",
    "            equality = labels.data == predicted\n",
    "            \n",
    "            if ii == 0:\n",
    "                print(predicted)      # idx of predicted class\n",
    "                print(torch.exp(_))   # probability of prediction\n",
    "                print(equality)       \n",
    "            accuracy = equality.type(torch.FloatTensor).mean()\n",
    "            total_acc += accuracy\n",
    "            print(accuracy)\n",
    "    print(\"Prediction accuracy in test set is {:.3f}%\".format(100*total_acc/len(testloaders)))"
   ]
  },
  {
   "cell_type": "code",
   "execution_count": 14,
   "metadata": {},
   "outputs": [
    {
     "name": "stdout",
     "output_type": "stream",
     "text": [
      "tensor([  84,   87,    0,   84,    0,   84,   84,   84,    1,    1,\n",
      "           1,    1,    2,    2,    2,    2,    2,   38,   56,    3,\n",
      "          56,  101,   56,    4,    4,    4,    4,    4,    4,    5,\n",
      "          82,    5], device='cuda:0')\n",
      "tensor([ 0.0780,  0.3192,  0.1516,  0.1156,  0.0553,  0.0620,  0.2224,\n",
      "         0.0860,  0.4967,  0.8005,  0.4460,  0.8583,  0.5410,  0.4205,\n",
      "         0.1421,  0.5435,  0.6140,  0.2835,  0.2406,  0.1655,  0.1585,\n",
      "         0.2585,  0.4985,  0.7939,  0.8800,  0.9965,  0.3749,  0.9837,\n",
      "         0.9963,  0.7419,  0.1045,  0.3598], device='cuda:0')\n",
      "tensor([ 0,  0,  1,  0,  1,  0,  0,  0,  1,  1,  1,  1,  1,  1,\n",
      "         1,  1,  1,  0,  0,  1,  0,  0,  0,  1,  1,  1,  1,  1,\n",
      "         1,  1,  0,  1], dtype=torch.uint8, device='cuda:0')\n",
      "tensor(0.6250)\n",
      "tensor(0.6875)\n",
      "tensor(0.5938)\n",
      "tensor(0.6562)\n",
      "tensor(0.7188)\n",
      "tensor(0.5312)\n",
      "tensor(0.5000)\n",
      "tensor(0.8438)\n",
      "tensor(0.7812)\n",
      "tensor(0.8125)\n",
      "tensor(0.5625)\n",
      "tensor(0.6562)\n",
      "tensor(0.9375)\n",
      "tensor(0.9062)\n",
      "tensor(0.6562)\n",
      "tensor(0.7812)\n",
      "tensor(0.8438)\n",
      "tensor(0.9062)\n",
      "tensor(0.9688)\n",
      "tensor(0.9688)\n",
      "tensor(0.5312)\n",
      "tensor(0.5312)\n",
      "tensor(0.8750)\n",
      "tensor(0.5312)\n",
      "tensor(0.4375)\n",
      "tensor(0.7778)\n",
      "Prediction accuracy in test set is 71.621%\n"
     ]
    }
   ],
   "source": [
    "test_model(model, testloaders)"
   ]
  },
  {
   "cell_type": "markdown",
   "metadata": {},
   "source": [
    "## Save the checkpoint\n",
    "\n",
    "Now that your network is trained, save the model so you can load it later for making predictions. You probably want to save other things such as the mapping of classes to indices which you get from one of the image datasets: `image_datasets['train'].class_to_idx`. You can attach this to the model as an attribute which makes inference easier later on.\n",
    "\n",
    "```model.class_to_idx = image_datasets['train'].class_to_idx```\n",
    "\n",
    "Remember that you'll want to completely rebuild the model later so you can use it for inference. Make sure to include any information you need in the checkpoint. If you want to load the model and keep training, you'll want to save the number of epochs as well as the optimizer state, `optimizer.state_dict`. You'll likely want to use this trained model in the next part of the project, so best to save it now."
   ]
  },
  {
   "cell_type": "code",
   "execution_count": 15,
   "metadata": {},
   "outputs": [],
   "source": [
    "# TODO: Save the checkpoint \n",
    "model.class_to_idx = train_datasets.class_to_idx\n",
    "checkpoint = {'features': model.features,\n",
    "              'input_size': 25088, \n",
    "              'output_size': 102,\n",
    "              'hidden_layers': [each.out_features for each in model.classifier.hidden_layers],\n",
    "              'state_dict': model.state_dict(),\n",
    "              'class_to_idx': model.class_to_idx,\n",
    "              }\n",
    "torch.save(checkpoint, 'checkpoint.pth')"
   ]
  },
  {
   "cell_type": "markdown",
   "metadata": {},
   "source": [
    "## Loading the checkpoint\n",
    "\n",
    "At this point it's good to write a function that can load a checkpoint and rebuild the model. That way you can come back to this project and keep working on it without having to retrain the network."
   ]
  },
  {
   "cell_type": "code",
   "execution_count": 16,
   "metadata": {},
   "outputs": [],
   "source": [
    "# TODO: Write a function that loads a checkpoint and rebuilds the model\n",
    "def load_checkpoint(filepath):\n",
    "    checkpoint = torch.load(filepath)\n",
    "    \n",
    "    model = models.vgg16(pretrained=True)\n",
    "    model.classifier = MyNetwork(checkpoint['input_size'],\n",
    "                          checkpoint['output_size'],\n",
    "                          checkpoint['hidden_layers'])\n",
    "    model.load_state_dict(checkpoint['state_dict'])\n",
    "    model.class_to_idx = checkpoint['class_to_idx']\n",
    "    return model"
   ]
  },
  {
   "cell_type": "code",
   "execution_count": 17,
   "metadata": {},
   "outputs": [
    {
     "name": "stdout",
     "output_type": "stream",
     "text": [
      "tensor([  84,   87,    0,   84,    0,   84,   84,   84,    1,    1,\n",
      "           1,    1,    2,    2,    2,    2,    2,   38,   56,    3,\n",
      "          56,  101,   56,    4,    4,    4,    4,    4,    4,    5,\n",
      "          82,    5], device='cuda:0')\n",
      "tensor([ 0.0780,  0.3192,  0.1516,  0.1156,  0.0553,  0.0620,  0.2224,\n",
      "         0.0860,  0.4967,  0.8005,  0.4460,  0.8583,  0.5410,  0.4205,\n",
      "         0.1421,  0.5435,  0.6140,  0.2835,  0.2406,  0.1655,  0.1585,\n",
      "         0.2585,  0.4985,  0.7939,  0.8800,  0.9965,  0.3749,  0.9837,\n",
      "         0.9963,  0.7419,  0.1045,  0.3598], device='cuda:0')\n",
      "tensor([ 0,  0,  1,  0,  1,  0,  0,  0,  1,  1,  1,  1,  1,  1,\n",
      "         1,  1,  1,  0,  0,  1,  0,  0,  0,  1,  1,  1,  1,  1,\n",
      "         1,  1,  0,  1], dtype=torch.uint8, device='cuda:0')\n",
      "tensor(0.6250)\n",
      "tensor(0.6875)\n",
      "tensor(0.5938)\n",
      "tensor(0.6562)\n",
      "tensor(0.7188)\n",
      "tensor(0.5312)\n",
      "tensor(0.5000)\n",
      "tensor(0.8438)\n",
      "tensor(0.7812)\n",
      "tensor(0.8125)\n",
      "tensor(0.5625)\n",
      "tensor(0.6562)\n",
      "tensor(0.9375)\n",
      "tensor(0.9062)\n",
      "tensor(0.6562)\n",
      "tensor(0.7812)\n",
      "tensor(0.8438)\n",
      "tensor(0.9062)\n",
      "tensor(0.9688)\n",
      "tensor(0.9688)\n",
      "tensor(0.5312)\n",
      "tensor(0.5312)\n",
      "tensor(0.8750)\n",
      "tensor(0.5312)\n",
      "tensor(0.4375)\n",
      "tensor(0.7778)\n",
      "Prediction accuracy in test set is 71.621%\n"
     ]
    }
   ],
   "source": [
    "model2 = load_checkpoint('checkpoint.pth')\n",
    "test_model(model2, testloaders)"
   ]
  },
  {
   "cell_type": "markdown",
   "metadata": {},
   "source": [
    "# Inference for classification\n",
    "\n",
    "Now you'll write a function to use a trained network for inference. That is, you'll pass an image into the network and predict the class of the flower in the image. Write a function called `predict` that takes an image and a model, then returns the top $K$ most likely classes along with the probabilities. It should look like \n",
    "\n",
    "```python\n",
    "probs, classes = predict(image_path, model)\n",
    "print(probs)\n",
    "print(classes)\n",
    "> [ 0.01558163  0.01541934  0.01452626  0.01443549  0.01407339]\n",
    "> ['70', '3', '45', '62', '55']\n",
    "```\n",
    "\n",
    "First you'll need to handle processing the input image such that it can be used in your network. \n",
    "\n",
    "## Image Preprocessing\n",
    "\n",
    "You'll want to use `PIL` to load the image ([documentation](https://pillow.readthedocs.io/en/latest/reference/Image.html)). It's best to write a function that preprocesses the image so it can be used as input for the model. This function should process the images in the same manner used for training. \n",
    "\n",
    "First, resize the images where the shortest side is 256 pixels, keeping the aspect ratio. This can be done with the [`thumbnail`](http://pillow.readthedocs.io/en/3.1.x/reference/Image.html#PIL.Image.Image.thumbnail) or [`resize`](http://pillow.readthedocs.io/en/3.1.x/reference/Image.html#PIL.Image.Image.thumbnail) methods. Then you'll need to crop out the center 224x224 portion of the image.\n",
    "\n",
    "Color channels of images are typically encoded as integers 0-255, but the model expected floats 0-1. You'll need to convert the values. It's easiest with a Numpy array, which you can get from a PIL image like so `np_image = np.array(pil_image)`.\n",
    "\n",
    "As before, the network expects the images to be normalized in a specific way. For the means, it's `[0.485, 0.456, 0.406]` and for the standard deviations `[0.229, 0.224, 0.225]`. You'll want to subtract the means from each color channel, then divide by the standard deviation. \n",
    "\n",
    "And finally, PyTorch expects the color channel to be the first dimension but it's the third dimension in the PIL image and Numpy array. You can reorder dimensions using [`ndarray.transpose`](https://docs.scipy.org/doc/numpy-1.13.0/reference/generated/numpy.ndarray.transpose.html). The color channel needs to be first and retain the order of the other two dimensions."
   ]
  },
  {
   "cell_type": "code",
   "execution_count": 18,
   "metadata": {},
   "outputs": [],
   "source": [
    "def process_image(image):\n",
    "    ''' Scales, crops, and normalizes a PIL image for a PyTorch model,\n",
    "        returns an Numpy array\n",
    "    '''\n",
    "    # TODO: Process a PIL image for use in a PyTorch model\n",
    "    img = Image.open(image)\n",
    "    img = img.resize((256, 256))\n",
    "    img = img.crop((16, 16, 240, 240))\n",
    "    mean = [0.485, 0.456, 0.406]\n",
    "    std = [0.229, 0.224, 0.225]\n",
    "    \n",
    "    img = np.array(img)\n",
    "    img = img / 255\n",
    "    img = (img - mean) / std\n",
    "    img = img.transpose(2, 0, 1)\n",
    "    \n",
    "    return img"
   ]
  },
  {
   "cell_type": "markdown",
   "metadata": {},
   "source": [
    "To check your work, the function below converts a PyTorch tensor and displays it in the notebook. If your `process_image` function works, running the output through this function should return the original image (except for the cropped out portions)."
   ]
  },
  {
   "cell_type": "code",
   "execution_count": 19,
   "metadata": {},
   "outputs": [],
   "source": [
    "def imshow(image, ax=None, title=None):\n",
    "    if ax is None:\n",
    "        fig, ax = plt.subplots()\n",
    "    # add title to compare with prediction\n",
    "    if title:       \n",
    "        plt.title(title)\n",
    "    # PyTorch tensors assume the color channel is the first dimension\n",
    "    # but matplotlib assumes is the third dimension\n",
    "    image = image.transpose((1, 2, 0))\n",
    "    \n",
    "    # Undo preprocessing\n",
    "    mean = np.array([0.485, 0.456, 0.406])\n",
    "    std = np.array([0.229, 0.224, 0.225])\n",
    "    image = std * image + mean\n",
    "    \n",
    "    # Image needs to be clipped between 0 and 1 or it looks like noise when displayed\n",
    "    image = np.clip(image, 0, 1)\n",
    "    \n",
    "    ax.imshow(image)\n",
    "    \n",
    "    return ax"
   ]
  },
  {
   "cell_type": "markdown",
   "metadata": {},
   "source": [
    "## Class Prediction\n",
    "\n",
    "Once you can get images in the correct format, it's time to write a function for making predictions with your model. A common practice is to predict the top 5 or so (usually called top-$K$) most probable classes. You'll want to calculate the class probabilities then find the $K$ largest values.\n",
    "\n",
    "To get the top $K$ largest values in a tensor use [`x.topk(k)`](http://pytorch.org/docs/master/torch.html#torch.topk). This method returns both the highest `k` probabilities and the indices of those probabilities corresponding to the classes. You need to convert from these indices to the actual class labels using `class_to_idx` which hopefully you added to the model or from an `ImageFolder` you used to load the data ([see here](#Save-the-checkpoint)). Make sure to invert the dictionary so you get a mapping from index to class as well.\n",
    "\n",
    "Again, this method should take a path to an image and a model checkpoint, then return the probabilities and classes.\n",
    "\n",
    "```python\n",
    "probs, classes = predict(image_path, model)\n",
    "print(probs)\n",
    "print(classes)\n",
    "> [ 0.01558163  0.01541934  0.01452626  0.01443549  0.01407339]\n",
    "> ['70', '3', '45', '62', '55']\n",
    "```"
   ]
  },
  {
   "cell_type": "code",
   "execution_count": 20,
   "metadata": {},
   "outputs": [],
   "source": [
    "def predict(image_path, model, topk=5):\n",
    "    ''' Predict the class (or classes) of an image using a trained deep learning model.\n",
    "    '''\n",
    "    # TODO: Implement the code to predict the class from an image file\n",
    "    img = process_image(image_path)\n",
    "    img = torch.from_numpy(img).type(torch.FloatTensor)\n",
    "    img = img.unsqueeze(0)   # fit to used as input\n",
    "    model.to('cpu')\n",
    "    img = img.to('cpu')\n",
    "    ps = torch.exp(model.forward(img))  \n",
    "    top_ps, top_labs = ps.topk(topk)\n",
    "    \n",
    "    top_ps = top_ps.detach().numpy().tolist()[0]     # make list\n",
    "    top_labs = top_labs.detach().numpy().tolist()[0]\n",
    "    idx_to_class = {val: key for key, val in model.class_to_idx.items()}\n",
    "    top_classes = [idx_to_class[lab] for lab in top_labs]\n",
    "    \n",
    "    return top_ps, top_classes"
   ]
  },
  {
   "cell_type": "markdown",
   "metadata": {},
   "source": [
    "## Sanity Checking\n",
    "\n",
    "Now that you can use a trained model for predictions, check to make sure it makes sense. Even if the testing accuracy is high, it's always good to check that there aren't obvious bugs. Use `matplotlib` to plot the probabilities for the top 5 classes as a bar graph, along with the input image. It should look like this:\n",
    "\n",
    "<img src='assets/inference_example.png' width=300px>\n",
    "\n",
    "You can convert from the class integer encoding to actual flower names with the `cat_to_name.json` file (should have been loaded earlier in the notebook). To show a PyTorch tensor as an image, use the `imshow` function defined above."
   ]
  },
  {
   "cell_type": "code",
   "execution_count": 21,
   "metadata": {},
   "outputs": [],
   "source": [
    "# TODO: Display an image along with the top 5 classes\n",
    "def predict_show(image_path, model):\n",
    "    \n",
    "    plt.figure(figsize = (4, 8))\n",
    "    ax = plt.subplot(2,1,1)\n",
    "    title = cat_to_name[image_path.split('/')[2]]\n",
    "    img = process_image(image_path)\n",
    "    imshow(img, ax, title)\n",
    "    \n",
    "    ps, classes = predict(image_path, model)\n",
    "    flower_name = [cat_to_name[cla] for cla in classes]\n",
    "    plt.subplot(2,1,2)\n",
    "    sb.barplot(x=ps, y=flower_name, color=sb.color_palette()[1])\n",
    "    plt.show()  "
   ]
  },
  {
   "cell_type": "code",
   "execution_count": 22,
   "metadata": {},
   "outputs": [
    {
     "data": {
      "image/png": "[encoded data removed]",
      "text/plain": [
       "<matplotlib.figure.Figure at 0x7eff01707fd0>"
      ]
     },
     "metadata": {
      "needs_background": "light"
     },
     "output_type": "display_data"
    }
   ],
   "source": [
    "image_path = 'flowers/test/10/image_07104.jpg'\n",
    "predict_show(image_path, model)"
   ]
  }
 ],
 "metadata": {
  "kernelspec": {
   "display_name": "Python 3",
   "language": "python",
   "name": "python3"
  },
  "language_info": {
   "codemirror_mode": {
    "name": "ipython",
    "version": 3
   },
   "file_extension": ".py",
   "mimetype": "text/x-python",
   "name": "python",
   "nbconvert_exporter": "python",
   "pygments_lexer": "ipython3",
   "version": "3.6.3"
  }
 },
 "nbformat": 4,
 "nbformat_minor": 2
}
